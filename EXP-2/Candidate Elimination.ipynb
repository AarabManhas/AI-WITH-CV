{
 "cells": [
  {
   "cell_type": "code",
   "execution_count": 7,
   "id": "1c2b58a3-508f-4175-80db-57ec222e9350",
   "metadata": {},
   "outputs": [],
   "source": [
    "import pandas as pd\n",
    "import numpy as np"
   ]
  },
  {
   "cell_type": "code",
   "execution_count": 8,
   "id": "51bf6072-7dd6-4439-8114-8ce2f22889ef",
   "metadata": {},
   "outputs": [],
   "source": [
    "# Load the dataset\n",
    "data = pd.read_csv(\"Weather.csv\")"
   ]
  },
  {
   "cell_type": "code",
   "execution_count": 9,
   "id": "244f33e7-fa7e-4f7b-9568-d111e5e8d7a7",
   "metadata": {},
   "outputs": [
    {
     "name": "stdout",
     "output_type": "stream",
     "text": [
      "      Time Weather Temperature Company Humidity    Wind Goes\n",
      "0  Morning   Sunny        Warm     Yes     Mild  Strong  Yes\n",
      "1  Evening   Rainy        Cold      No     Mild  Normal   No\n",
      "2  Morning   Sunny    Moderate     Yes   Normal  Normal  Yes\n",
      "3  Evening   Sunny        Cold     Yes     High  Strong  Yes n\n"
     ]
    }
   ],
   "source": [
    "print(data,\"n\")"
   ]
  },
  {
   "cell_type": "code",
   "execution_count": 10,
   "id": "59e2cfd4-231f-4fd2-8f1e-3a9d6cd3399f",
   "metadata": {},
   "outputs": [
    {
     "name": "stdout",
     "output_type": "stream",
     "text": [
      "\n",
      "Attributes:\n",
      "[['Morning' 'Sunny' 'Warm' 'Yes' 'Mild' 'Strong']\n",
      " ['Evening' 'Rainy' 'Cold' 'No' 'Mild' 'Normal']\n",
      " ['Morning' 'Sunny' 'Moderate' 'Yes' 'Normal' 'Normal']\n",
      " ['Evening' 'Sunny' 'Cold' 'Yes' 'High' 'Strong']]\n",
      "\n",
      "Target:\n",
      "['Yes' 'No' 'Yes' 'Yes']\n"
     ]
    }
   ],
   "source": [
    "# Extract the attributes and target\n",
    "d = np.array(data)[:, :-1]\n",
    "target = np.array(data)[:, -1]\n",
    "\n",
    "print(\"\\nAttributes:\")\n",
    "print(d)\n",
    "print(\"\\nTarget:\")\n",
    "print(target)"
   ]
  },
  {
   "cell_type": "code",
   "execution_count": 11,
   "id": "f92dcaf1-2d7b-461d-b09a-f2c11dd92b91",
   "metadata": {},
   "outputs": [],
   "source": [
    "# Initialize the specific and general boundaries\n",
    "num_attributes = d.shape[1]\n",
    "\n",
    "# Start with the most specific hypothesis\n",
    "specific_hypothesis = ['0'] * num_attributes\n",
    "\n",
    "# Start with the most general hypothesis\n",
    "general_hypothesis = [['?'] * num_attributes]\n"
   ]
  },
  {
   "cell_type": "code",
   "execution_count": 12,
   "id": "61ed5549-5bd2-4d7e-b5bf-1a893fe800ce",
   "metadata": {},
   "outputs": [],
   "source": [
    "# Candidate Elimination Algorithm\n",
    "for i, instance in enumerate(d):\n",
    "    if target[i] == 'Yes':\n",
    "        # Update specific hypothesis for positive examples\n",
    "        for j in range(num_attributes):\n",
    "            if specific_hypothesis[j] == '0':\n",
    "                specific_hypothesis[j] = instance[j]\n",
    "            elif specific_hypothesis[j] != instance[j]:\n",
    "                specific_hypothesis[j] = '?'\n",
    "\n",
    "        # Remove inconsistent hypotheses from general hypothesis\n",
    "        general_hypothesis = [hypothesis for hypothesis in general_hypothesis\n",
    "                              if all(h == '?' or h == instance[k] or h == specific_hypothesis[k]\n",
    "                                     for k, h in enumerate(hypothesis))]\n",
    "\n",
    "    elif target[i] == 'No':\n",
    "        # Update general hypothesis for negative examples\n",
    "        new_general_hypotheses = []\n",
    "        for hypothesis in general_hypothesis:\n",
    "            for j in range(num_attributes):\n",
    "                if hypothesis[j] == '?':\n",
    "                    for value in np.unique(d[:, j]):\n",
    "                        if value != instance[j]:\n",
    "                            new_hypothesis = hypothesis.copy()\n",
    "                            new_hypothesis[j] = value\n",
    "                            new_general_hypotheses.append(new_hypothesis)\n",
    "\n",
    "        # Keep only the most general hypotheses\n",
    "        general_hypothesis = [hypothesis for hypothesis in new_general_hypotheses\n",
    "                              if any(h != '?' for h in hypothesis)]\n"
   ]
  },
  {
   "cell_type": "code",
   "execution_count": 13,
   "id": "98bd335a-871e-4009-ae0f-8d64b9b33db3",
   "metadata": {},
   "outputs": [
    {
     "name": "stdout",
     "output_type": "stream",
     "text": [
      "\n",
      "Final Specific Hypothesis:\n",
      "['?', 'Sunny', '?', 'Yes', '?', '?']\n",
      "\n",
      "Final General Hypotheses:\n",
      "[['?', 'Sunny', '?', '?', '?', '?'], ['?', '?', '?', 'Yes', '?', '?']]\n"
     ]
    }
   ],
   "source": [
    "print(\"\\nFinal Specific Hypothesis:\")\n",
    "print(specific_hypothesis)\n",
    "\n",
    "print(\"\\nFinal General Hypotheses:\")\n",
    "print(general_hypothesis)"
   ]
  },
  {
   "cell_type": "code",
   "execution_count": null,
   "id": "dfb891e3-2efe-4fc7-94c3-3b8e7100345a",
   "metadata": {},
   "outputs": [],
   "source": []
  },
  {
   "cell_type": "code",
   "execution_count": null,
   "id": "00c37364-2629-482d-8db4-738fd6a7735f",
   "metadata": {},
   "outputs": [],
   "source": []
  }
 ],
 "metadata": {
  "kernelspec": {
   "display_name": "Python 3 (ipykernel)",
   "language": "python",
   "name": "python3"
  },
  "language_info": {
   "codemirror_mode": {
    "name": "ipython",
    "version": 3
   },
   "file_extension": ".py",
   "mimetype": "text/x-python",
   "name": "python",
   "nbconvert_exporter": "python",
   "pygments_lexer": "ipython3",
   "version": "3.13.1"
  }
 },
 "nbformat": 4,
 "nbformat_minor": 5
}
